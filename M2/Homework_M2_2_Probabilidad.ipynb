{
 "cells": [
  {
   "cell_type": "markdown",
   "metadata": {},
   "source": [
    "https://www.studysmarter.es/resumenes/matematicas/estadistica-y-probabilidad/experimento-aleatorio/#:~:text=Por%20ejemplo%3A,exacto%20que%20tardar%C3%A1%20en%20caer.\n",
    "https://www.coursehero.com/file/p6bv4sp/Regla-de-conteo-para-experimentos-de-pasos-m%C3%BAltiples-Un-experimento-se-describe/\n"
   ]
  },
  {
   "cell_type": "markdown",
   "metadata": {},
   "source": [
    "Utilizando Python cálcular las siguientes probabilidades. Para cada uno intenta determinar que método aplicaste.<br>\n",
    "\n",
    "1. Lanza una moneda al aire 10 veces, ¿cuantos resultados posibles forman parte del espacio muestral?."
   ]
  },
  {
   "cell_type": "code",
   "execution_count": 26,
   "metadata": {},
   "outputs": [
    {
     "name": "stdout",
     "output_type": "stream",
     "text": [
      "Resultados totales posibles: 1024\n"
     ]
    }
   ],
   "source": [
    "'''En este ejercicio se aplica un modelo probabilístico con experimento aleatorio (se puede modelar utilizando distribución binomial). \n",
    "Se aplica experimento de pasos múltiples, regla de conteo\n",
    "\n",
    "Espacio muestral: Cada lanzamiento de la moneda tiene dos resultados posibles, por lo que el número total de resultados posibles en 10 \n",
    "lanzamientos es 2^10 (1024)'''\n",
    "\n",
    "# Número de lanzamientos de moneda\n",
    "lanzamientos = 10\n",
    "\n",
    "# Número de resultados posibles en cada lanzamiento (2: cara o cruz)\n",
    "resultados_posibles_en_cada_lanzamiento = 2\n",
    "\n",
    "# Calcular el número total de resultados posibles\n",
    "resultados_totales_posibles = resultados_posibles_en_cada_lanzamiento ** lanzamientos\n",
    "\n",
    "print(\"Resultados totales posibles:\", resultados_totales_posibles)"
   ]
  },
  {
   "cell_type": "code",
   "execution_count": null,
   "metadata": {},
   "outputs": [],
   "source": [
    "#--------------------------------- CON LIBRERÍA ---------------------------------\n",
    "\n",
    "from itertools import product\n",
    "\n",
    "lanzamientos = 10\n",
    "posibles_resultados = ['C', 'X']  # Cara y Cruz\n",
    "espacio_muestral = list(product(posibles_resultados, repeat=lanzamientos))\n",
    "print(espacio_muestral)\n",
    "print('Resultados posibles que forman parte del espacio muestral:', len(espacio_muestral))  # Debería imprimir 1024\n"
   ]
  },
  {
   "cell_type": "code",
   "execution_count": 23,
   "metadata": {},
   "outputs": [
    {
     "name": "stdout",
     "output_type": "stream",
     "text": [
      "Número de secuencias con 5 caras en 10 lanzamientos: 252\n"
     ]
    }
   ],
   "source": [
    "#----------------------------------------------------------------------------------\n",
    "#Ejemplo, si deseas contar cuántas veces obtienes exactamente 5 caras en 10 lanzamientos:\n",
    "\n",
    "import itertools\n",
    "\n",
    "# Función para contar cuántas veces se obtiene exactamente 5 caras en 10 lanzamientos\n",
    "def contar_cinco_caras():\n",
    "    lanzamientos = ['cara', 'cruz']  # Definimos los posibles resultados de un lanzamiento de moneda\n",
    "    espacio_muestral = list(itertools.product(lanzamientos, repeat=10))  # Generamos el espacio muestral\n",
    "\n",
    "    # Contamos cuántas veces aparece 'cara' exactamente 5 veces en cada secuencia del espacio muestral\n",
    "    contador = sum(1 for secuencia in espacio_muestral if secuencia.count('cara') == 5)\n",
    "\n",
    "    return contador\n",
    "\n",
    "# Llamamos a la función para contar\n",
    "resultado = contar_cinco_caras()\n",
    "print(\"Número de secuencias con 5 caras en 10 lanzamientos:\", resultado)\n"
   ]
  },
  {
   "cell_type": "markdown",
   "metadata": {},
   "source": [
    "2. En un aeropuerto se tiene a 10 pasajeros esperando en la sala de preembarque, la polícia debe controlar a 3 de ellos. ¿Cuantas combinaciones posibles se pueden obtener?."
   ]
  },
  {
   "cell_type": "code",
   "execution_count": 24,
   "metadata": {},
   "outputs": [
    {
     "name": "stdout",
     "output_type": "stream",
     "text": [
      "Número de combinaciones posibles: 120.0\n"
     ]
    }
   ],
   "source": [
    "'''En este ejercicio se aplica un modelo probabilístico con experimento aleatorio, y combinaciones para contar los resultados experimentales'''\n",
    "\n",
    "# Función para calcular el factorial de un número\n",
    "def factorial(n):\n",
    "    if n == 0:\n",
    "        return 1\n",
    "    else:\n",
    "        return n * factorial(n - 1)\n",
    "\n",
    "# Número total de pasajeros\n",
    "n = 10\n",
    "\n",
    "# Número de pasajeros que se deben controlar\n",
    "k = 3\n",
    "\n",
    "# Calcular el número de combinaciones posibles\n",
    "combinaciones_posibles = factorial(n) // (factorial(k) * factorial(n - k))\n",
    "\n",
    "print(\"Combinaciones posibles:\", combinaciones_posibles)\n"
   ]
  },
  {
   "cell_type": "code",
   "execution_count": null,
   "metadata": {},
   "outputs": [],
   "source": [
    "#mismo ejercicio anterior usando permutaciones\n",
    "\n",
    "# Función para calcular el factorial de un número\n",
    "def factorial(n):\n",
    "    if n == 0:\n",
    "        return 1\n",
    "    else:\n",
    "        return n * factorial(n - 1)\n",
    "\n",
    "# Número total de pasajeros\n",
    "n = 10\n",
    "\n",
    "# Número de pasajeros que se deben controlar\n",
    "k = 3\n",
    "\n",
    "# Calcular el número de permutaciones posibles\n",
    "permutaciones_posibles = factorial(n) // factorial(n - k)\n",
    "\n",
    "print(\"Permutaciones posibles:\", permutaciones_posibles)\n"
   ]
  },
  {
   "cell_type": "code",
   "execution_count": null,
   "metadata": {},
   "outputs": [],
   "source": [
    "#--------------------------------- CON LIBRERÍA ---------------------------------\n",
    "\n",
    "from scipy.special import comb\n",
    "\n",
    "# Número total de pasajeros\n",
    "total_pasajeros = 10\n",
    "\n",
    "# Número de pasajeros a controlar\n",
    "pasajeros_a_controlar = 3\n",
    "\n",
    "# Calcular el número de combinaciones posibles\n",
    "combinaciones_posibles = comb(total_pasajeros, pasajeros_a_controlar)\n",
    "\n",
    "print(\"Número de combinaciones posibles:\", combinaciones_posibles)"
   ]
  },
  {
   "cell_type": "markdown",
   "metadata": {},
   "source": [
    "3. La Agencia Nacional de Seguridad Vial realizó una investigación para saber si los conductores están usando sus cinturones de seguridad. Los datos muestrales fueron los siguientes:<br>\n",
    "Conductores que emplean el cinturón <br>\n",
    "\n",
    "![Ejercicio](../_src/assets/ejercicio3.PNG)\n",
    "\n",
    "- a) ¿Qué metodo cree que se utilizo para asignar probabilidades?.\n",
    "- b) Construya un cuadro similar, pero con la asignación de probabilidades.\n",
    "- c) ¿Cuál sería el mejor método pára estimar la probabilidad de que en Estados Unidos un conductor lleve puesto el cinturón?.\n",
    "- d) Un año antes, la probabilidad en Argentina de que un conductor llevara puesto el cinturón era 0.75. El director de ANSV, se esperaba que la probabilidad llegara a 0.78. ¿Estará satisfecho con los resultados del estudio? (Utilizar tabla adjunta (![Ejercicio](../_src/assets/ejercicio3.PNG))\n",
    "- e) ¿Cuál es la probabilidad de que se use el cinturón en las distintas regiones del país? ¿En qué región se usa más el cinturón?(Utilizar misma tabla que el ejercicio anterior).\n",
    "\n",
    " "
   ]
  },
  {
   "cell_type": "code",
   "execution_count": null,
   "metadata": {},
   "outputs": [],
   "source": [
    "'''Se utilizó un enfoque de corriente frecuentista para asignar probabilidades.\n",
    "Método de la frecuencia relativa: Los frecuentistas se basan principalmente en observaciones empíricas y asignan probabilidades \n",
    "basadas en la frecuencia relativa de eventos en conjuntos de datos históricos.\n",
    "La frecuencia relativa, es una medida que indica el número de veces que aparece un valor en una muestra de datos en forma de proporción \n",
    "o porcentaje. La frecuencia relativa es igual a la frecuencia absoluta dividido por el número total de datos.\n",
    "Por ejemplo, si la frecuencia absoluta de un valor es 15 y en total hay 100 datos, la frecuencia relativa de ese valor es 0,15 (15/100=0,15).\n",
    "hi = fi / N : hi:frecuencia relativa, fi: frecuencia absoluta, N:número total de casos\n",
    "'''\n",
    "hi = "
   ]
  },
  {
   "cell_type": "code",
   "execution_count": 27,
   "metadata": {},
   "outputs": [
    {
     "data": {
      "text/html": [
       "<div>\n",
       "<style scoped>\n",
       "    .dataframe tbody tr th:only-of-type {\n",
       "        vertical-align: middle;\n",
       "    }\n",
       "\n",
       "    .dataframe tbody tr th {\n",
       "        vertical-align: top;\n",
       "    }\n",
       "\n",
       "    .dataframe thead th {\n",
       "        text-align: right;\n",
       "    }\n",
       "</style>\n",
       "<table border=\"1\" class=\"dataframe\">\n",
       "  <thead>\n",
       "    <tr style=\"text-align: right;\">\n",
       "      <th></th>\n",
       "      <th>Si</th>\n",
       "      <th>No</th>\n",
       "      <th>Total</th>\n",
       "    </tr>\n",
       "  </thead>\n",
       "  <tbody>\n",
       "    <tr>\n",
       "      <th>Norte</th>\n",
       "      <td>0.136280</td>\n",
       "      <td>0.047882</td>\n",
       "      <td>0.184162</td>\n",
       "    </tr>\n",
       "    <tr>\n",
       "      <th>Noreste</th>\n",
       "      <td>0.149171</td>\n",
       "      <td>0.049724</td>\n",
       "      <td>0.198895</td>\n",
       "    </tr>\n",
       "    <tr>\n",
       "      <th>Sur</th>\n",
       "      <td>0.272560</td>\n",
       "      <td>0.068140</td>\n",
       "      <td>0.340700</td>\n",
       "    </tr>\n",
       "    <tr>\n",
       "      <th>Centro</th>\n",
       "      <td>0.232044</td>\n",
       "      <td>0.044199</td>\n",
       "      <td>0.276243</td>\n",
       "    </tr>\n",
       "    <tr>\n",
       "      <th>Total</th>\n",
       "      <td>0.790055</td>\n",
       "      <td>0.209945</td>\n",
       "      <td>1.000000</td>\n",
       "    </tr>\n",
       "  </tbody>\n",
       "</table>\n",
       "</div>"
      ],
      "text/plain": [
       "               Si        No     Total\n",
       "Norte    0.136280  0.047882  0.184162\n",
       "Noreste  0.149171  0.049724  0.198895\n",
       "Sur      0.272560  0.068140  0.340700\n",
       "Centro   0.232044  0.044199  0.276243\n",
       "Total    0.790055  0.209945  1.000000"
      ]
     },
     "execution_count": 27,
     "metadata": {},
     "output_type": "execute_result"
    }
   ],
   "source": [
    "import pandas as pd\n",
    "regiones = ['Norte','Noreste','Sur','Centro']\n",
    "valores_si = [148, 162, 296, 252]\n",
    "valores_no = [52, 54, 74, 48]\n",
    "datos = dict(Si = valores_si, No = valores_no)\n",
    "cuadro = pd.DataFrame(datos, index=regiones)\n",
    "cuadro = cuadro / (sum(cuadro.sum()))\n",
    "cuadro.loc[5] = sum(cuadro.Si), sum(cuadro.No)\n",
    "cuadro = cuadro.rename(index={5: 'Total'})\n",
    "cuadro = cuadro.assign(Total = cuadro.Si + cuadro.No)\n",
    " \n",
    "cuadro"
   ]
  },
  {
   "cell_type": "code",
   "execution_count": 28,
   "metadata": {},
   "outputs": [
    {
     "name": "stdout",
     "output_type": "stream",
     "text": [
      "Región Norte\n",
      "- Si: 0.74\n",
      "- No: 0.26\n",
      "Región Noreste\n",
      "- Si: 0.75\n",
      "- No: 0.25\n",
      "Región Sur\n",
      "- Si: 0.80\n",
      "- No: 0.20\n",
      "Región Centro\n",
      "- Si: 0.84\n",
      "- No: 0.16\n"
     ]
    }
   ],
   "source": [
    "# Crear un diccionario con las probabilidades\n",
    "probabilidades = {\n",
    "    'Región Norte': {'Si': 148/200, 'No': 52/200},\n",
    "    'Región Noreste': {'Si': 162/216, 'No': 54/216},\n",
    "    'Región Sur': {'Si': 296/370, 'No': 74/370},\n",
    "    'Región Centro': {'Si': 252/300, 'No': 48/300}\n",
    "}\n",
    "\n",
    "# Mostrar el cuadro de probabilidades\n",
    "for region, valores in probabilidades.items():\n",
    "    print(region)\n",
    "    for estado, probabilidad in valores.items():\n",
    "        print(f\"- {estado}: {probabilidad:.2f}\")\n"
   ]
  },
  {
   "cell_type": "code",
   "execution_count": 33,
   "metadata": {},
   "outputs": [
    {
     "name": "stdout",
     "output_type": "stream",
     "text": [
      "Región Norte\n",
      "- Si: 0.136280\n",
      "- No: 0.047882\n",
      "Región Noreste\n",
      "- Si: 0.149171\n",
      "- No: 0.049724\n",
      "Región Sur\n",
      "- Si: 0.272560\n",
      "- No: 0.068140\n",
      "Región Centro\n",
      "- Si: 0.232044\n",
      "- No: 0.044199\n"
     ]
    }
   ],
   "source": [
    "# Crear un diccionario con las probabilidades\n",
    "probabilidades = {\n",
    "    'Región Norte': {'Si': 148/1086, 'No': 52/1086},\n",
    "    'Región Noreste': {'Si': 162/1086, 'No': 54/1086},\n",
    "    'Región Sur': {'Si': 296/1086, 'No': 74/1086},\n",
    "    'Región Centro': {'Si': 252/1086, 'No': 48/1086}\n",
    "}\n",
    "df=(pd.DataFrame(probabilidades))\n",
    "df\n",
    "\n",
    "# Mostrar el cuadro de probabilidades\n",
    "for region, valores in probabilidades.items():\n",
    "    print(region)\n",
    "    for estado, probabilidad in valores.items():\n",
    "        print(f\"- {estado}: {probabilidad:.6f}\")\n"
   ]
  }
 ],
 "metadata": {
  "kernelspec": {
   "display_name": "base",
   "language": "python",
   "name": "python3"
  },
  "language_info": {
   "codemirror_mode": {
    "name": "ipython",
    "version": 3
   },
   "file_extension": ".py",
   "mimetype": "text/x-python",
   "name": "python",
   "nbconvert_exporter": "python",
   "pygments_lexer": "ipython3",
   "version": "3.10.9"
  },
  "orig_nbformat": 4
 },
 "nbformat": 4,
 "nbformat_minor": 2
}
