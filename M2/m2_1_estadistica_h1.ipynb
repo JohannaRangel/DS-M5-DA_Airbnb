{
 "cells": [
  {
   "cell_type": "markdown",
   "metadata": {},
   "source": [
    "https://pythonguia.com/python-numpy-median-ejemplos/#:~:text=median().,valor%20del%20array%20de%20numpy."
   ]
  },
  {
   "cell_type": "code",
   "execution_count": 79,
   "metadata": {},
   "outputs": [],
   "source": [
    "import numpy as np\n",
    "from scipy import stats as st"
   ]
  },
  {
   "cell_type": "code",
   "execution_count": 20,
   "metadata": {},
   "outputs": [
    {
     "data": {
      "text/plain": [
       "array([[1.85, 1.8 , 1.8 , 1.8 ],\n",
       "       [1.73, 1.7 , 1.75, 1.76],\n",
       "       [1.65, 1.69, 1.67, 1.6 ],\n",
       "       [1.54, 1.57, 1.58, 1.59],\n",
       "       [1.4 , 1.42, 1.45, 1.48]])"
      ]
     },
     "execution_count": 20,
     "metadata": {},
     "output_type": "execute_result"
    }
   ],
   "source": [
    "muestra = np.array( [[1.85, 1.8, 1.8 , 1.8],\n",
    "                    [1.73,  1.7, 1.75, 1.76],\n",
    "                    [ 1.65, 1.69,  1.67 ,  1.6],\n",
    "                    [1.54,  1.57, 1.58, 1.59],\n",
    "                    [ 1.4 , 1.42,  1.45, 1.48]]) \n",
    "np.sort(muestra)\n",
    "muestra"
   ]
  },
  {
   "cell_type": "code",
   "execution_count": 61,
   "metadata": {},
   "outputs": [
    {
     "data": {
      "text/plain": [
       "1.66"
      ]
     },
     "execution_count": 61,
     "metadata": {},
     "output_type": "execute_result"
    }
   ],
   "source": [
    "#calculo de la mediana \n",
    "rounded_array = np.around(muestra, decimals=2)\n",
    "rounded_array\n",
    "median_row = np.median(rounded_array, axis=1)\n",
    "median_row\n",
    "mediana_global = np.median(median_row)\n",
    "mediana_global"
   ]
  },
  {
   "cell_type": "code",
   "execution_count": 80,
   "metadata": {},
   "outputs": [
    {
     "name": "stdout",
     "output_type": "stream",
     "text": [
      "Moda de la fila 1: 1.8\n",
      "Moda de la fila 2: 1.7\n",
      "Moda de la fila 3: 1.6\n",
      "Moda de la fila 4: 1.54\n",
      "Moda de la fila 5: 1.4\n"
     ]
    },
    {
     "name": "stderr",
     "output_type": "stream",
     "text": [
      "C:\\Users\\johan\\AppData\\Local\\Temp\\ipykernel_17608\\3439483810.py:12: FutureWarning: Unlike other reduction functions (e.g. `skew`, `kurtosis`), the default behavior of `mode` typically preserves the axis it acts along. In SciPy 1.11.0, this behavior will change: the default value of `keepdims` will become False, the `axis` over which the statistic is taken will be eliminated, and the value None will no longer be accepted. Set `keepdims` to True or False to avoid this warning.\n",
      "  modas_por_fila = [stats.mode(fila)[0][0] for fila in muestra]\n"
     ]
    }
   ],
   "source": [
    "import numpy as np\n",
    "from scipy import stats\n",
    "\n",
    "# Tu array\n",
    "muestra = np.array([[1.85, 1.8, 1.8, 1.8],\n",
    "                    [1.73, 1.7, 1.75, 1.76],\n",
    "                    [1.65, 1.69, 1.67, 1.6],\n",
    "                    [1.54, 1.57, 1.58, 1.59],\n",
    "                    [1.4, 1.42, 1.45, 1.48]])\n",
    "\n",
    "# Calcular la moda para cada fila\n",
    "modas_por_fila = [stats.mode(fila)[0][0] for fila in muestra]\n",
    "\n",
    "# Imprimir las modas por fila\n",
    "for i, moda in enumerate(modas_por_fila):\n",
    "    print(f\"Moda de la fila {i + 1}: {moda}\")\n"
   ]
  },
  {
   "cell_type": "code",
   "execution_count": 73,
   "metadata": {},
   "outputs": [
    {
     "name": "stdout",
     "output_type": "stream",
     "text": [
      "[1.8]\n"
     ]
    },
    {
     "name": "stderr",
     "output_type": "stream",
     "text": [
      "C:\\Users\\johan\\AppData\\Local\\Temp\\ipykernel_17608\\1186290205.py:1: FutureWarning: Unlike other reduction functions (e.g. `skew`, `kurtosis`), the default behavior of `mode` typically preserves the axis it acts along. In SciPy 1.11.0, this behavior will change: the default value of `keepdims` will become False, the `axis` over which the statistic is taken will be eliminated, and the value None will no longer be accepted. Set `keepdims` to True or False to avoid this warning.\n",
      "  print(stats.mode(muestra.flatten())[0])\n"
     ]
    }
   ],
   "source": [
    "print(stats.mode(muestra.flatten())[0])"
   ]
  },
  {
   "cell_type": "code",
   "execution_count": 81,
   "metadata": {},
   "outputs": [
    {
     "name": "stdout",
     "output_type": "stream",
     "text": [
      "Average in array:\n",
      "1.6415\n",
      "Median in array:\n",
      "1.66\n",
      "Mode in array:\n",
      "[1.8]\n",
      "Variance in array:\n",
      "0.017642750000000006\n",
      "Standard deviation in array:\n",
      "0.13282601401833907\n"
     ]
    },
    {
     "name": "stderr",
     "output_type": "stream",
     "text": [
      "C:\\Users\\johan\\AppData\\Local\\Temp\\ipykernel_17608\\2144874087.py:8: FutureWarning: Unlike other reduction functions (e.g. `skew`, `kurtosis`), the default behavior of `mode` typically preserves the axis it acts along. In SciPy 1.11.0, this behavior will change: the default value of `keepdims` will become False, the `axis` over which the statistic is taken will be eliminated, and the value None will no longer be accepted. Set `keepdims` to True or False to avoid this warning.\n",
      "  stats.mode(muestra.flatten())[0], #moda\n"
     ]
    }
   ],
   "source": [
    "#CON LIBRERIAS\n",
    "#1. Considere el siguiente areglo que contiene la altura de un grupo de estudiantes de Henry y cálcule:\n",
    "print('Average in array:',\n",
    "    (np.sum(muestra) / np.size(muestra)), #media aritmetica (promedio)\n",
    "      'Median in array:',\n",
    "    np.median(muestra), #mediana\n",
    "      'Mode in array:',\n",
    "    stats.mode(muestra.flatten())[0], #moda\n",
    "      'Variance in array:',\n",
    "    np.var(muestra), #varianza\n",
    "      'Standard deviation in array:',\n",
    "    np.std(muestra), #desvío estándar\n",
    "      sep='\\n'\n",
    "      )\n",
    "\n",
    "#standard deviation, variance, mode, median, average in array\n",
    "\n",
    "\n"
   ]
  }
 ],
 "metadata": {
  "kernelspec": {
   "display_name": "base",
   "language": "python",
   "name": "python3"
  },
  "language_info": {
   "codemirror_mode": {
    "name": "ipython",
    "version": 3
   },
   "file_extension": ".py",
   "mimetype": "text/x-python",
   "name": "python",
   "nbconvert_exporter": "python",
   "pygments_lexer": "ipython3",
   "version": "3.10.9"
  },
  "orig_nbformat": 4
 },
 "nbformat": 4,
 "nbformat_minor": 2
}
