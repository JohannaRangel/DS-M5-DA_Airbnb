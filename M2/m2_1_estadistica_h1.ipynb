{
 "cells": [
  {
   "cell_type": "markdown",
   "metadata": {},
   "source": [
    "1. Considere el siguiente areglo que contiene la altura de un grupo de estudiantes de Henry y cálcule:\n",
    "- Media.\n",
    "- Mediana.\n",
    "- Moda\n",
    "- Varianza\n",
    "- Desvío estándar."
   ]
  },
  {
   "cell_type": "code",
   "execution_count": 38,
   "metadata": {},
   "outputs": [],
   "source": [
    "import numpy as np\n",
    "from scipy import stats as st\n",
    "import matplotlib.pyplot as plt\n",
    "import pandas as pd"
   ]
  },
  {
   "cell_type": "code",
   "execution_count": 39,
   "metadata": {},
   "outputs": [
    {
     "data": {
      "text/plain": [
       "array([[1.85, 1.8 , 1.8 , 1.8 ],\n",
       "       [1.73, 1.7 , 1.75, 1.76],\n",
       "       [1.65, 1.69, 1.67, 1.6 ],\n",
       "       [1.54, 1.57, 1.58, 1.59],\n",
       "       [1.4 , 1.42, 1.45, 1.48]])"
      ]
     },
     "execution_count": 39,
     "metadata": {},
     "output_type": "execute_result"
    }
   ],
   "source": [
    "muestra = np.array( [[1.85, 1.8, 1.8 , 1.8],\n",
    "                    [1.73,  1.7, 1.75, 1.76],\n",
    "                    [ 1.65, 1.69,  1.67 ,  1.6],\n",
    "                    [1.54,  1.57, 1.58, 1.59],\n",
    "                    [ 1.4 , 1.42,  1.45, 1.48]]) \n",
    "np.sort(muestra)\n",
    "muestra"
   ]
  },
  {
   "cell_type": "code",
   "execution_count": 40,
   "metadata": {},
   "outputs": [
    {
     "name": "stdout",
     "output_type": "stream",
     "text": [
      "Average in array:\n",
      "1.6415\n",
      "Median in array:\n",
      "1.66\n",
      "Mode in array:\n",
      "[1.8]\n",
      "Variance in array:\n",
      "0.017642750000000006\n",
      "Standard deviation in array:\n",
      "0.13282601401833907\n"
     ]
    },
    {
     "name": "stderr",
     "output_type": "stream",
     "text": [
      "C:\\Users\\johan\\AppData\\Local\\Temp\\ipykernel_6644\\1693569366.py:6: FutureWarning: Unlike other reduction functions (e.g. `skew`, `kurtosis`), the default behavior of `mode` typically preserves the axis it acts along. In SciPy 1.11.0, this behavior will change: the default value of `keepdims` will become False, the `axis` over which the statistic is taken will be eliminated, and the value None will no longer be accepted. Set `keepdims` to True or False to avoid this warning.\n",
      "  st.mode(muestra.flatten())[0],          #moda / mode\n"
     ]
    }
   ],
   "source": [
    "print('Average in array:',\n",
    "    (np.sum(muestra) / np.size(muestra)),   #media aritmetica (promedio) / average\n",
    "      'Median in array:',\n",
    "    np.median(muestra),                     #mediana / median\n",
    "      'Mode in array:',\n",
    "    st.mode(muestra.flatten())[0],          #moda / mode\n",
    "      'Variance in array:',\n",
    "    np.var(muestra),                        #varianza / variance\n",
    "      'Standard deviation in array:',\n",
    "    np.std(muestra),                        #desvío estándar / standard deviation\n",
    "      sep='\\n'\n",
    "      )"
   ]
  },
  {
   "cell_type": "markdown",
   "metadata": {},
   "source": [
    "2. Convierta el arreglo en una lista y realice un Histograma de 5 intervalos. ¿Tiene distribución normal?."
   ]
  },
  {
   "cell_type": "code",
   "execution_count": 59,
   "metadata": {},
   "outputs": [
    {
     "name": "stdout",
     "output_type": "stream",
     "text": [
      "[[1.85, 1.8, 1.8, 1.8], [1.73, 1.7, 1.75, 1.76], [1.65, 1.69, 1.67, 1.6], [1.54, 1.57, 1.58, 1.59], [1.4, 1.42, 1.45, 1.48]]\n"
     ]
    },
    {
     "data": {
      "image/png": "[encoded data removed]",
      "text/plain": [
       "<Figure size 640x480 with 1 Axes>"
      ]
     },
     "metadata": {},
     "output_type": "display_data"
    }
   ],
   "source": [
    "'''La distribución normal:\n",
    "Es un tipo específico de distribución estadística caracterizada por una forma de campana simétrica'''\n",
    "\n",
    "# Convierte el arreglo de NumPy en una lista\n",
    "lista = muestra.tolist()\n",
    "print(lista)\n",
    "\n",
    "# Crear el histograma con 5 intervalos\n",
    "plt.hist(x = lista, bins = 5)\n",
    "\n",
    "# Etiquetas de los ejes y título\n",
    "plt.title(\"Histograma 5 intervalos\")\n",
    "plt.xlabel(\"Altura\")\n",
    "plt.ylabel(\"Frecuecia\")\n",
    "plt.show()"
   ]
  },
  {
   "cell_type": "markdown",
   "metadata": {},
   "source": [
    "3. Utilizando pandas describa el dataframe."
   ]
  },
  {
   "cell_type": "code",
   "execution_count": 44,
   "metadata": {},
   "outputs": [
    {
     "data": {
      "text/html": [
       "<div>\n",
       "<style scoped>\n",
       "    .dataframe tbody tr th:only-of-type {\n",
       "        vertical-align: middle;\n",
       "    }\n",
       "\n",
       "    .dataframe tbody tr th {\n",
       "        vertical-align: top;\n",
       "    }\n",
       "\n",
       "    .dataframe thead th {\n",
       "        text-align: right;\n",
       "    }\n",
       "</style>\n",
       "<table border=\"1\" class=\"dataframe\">\n",
       "  <thead>\n",
       "    <tr style=\"text-align: right;\">\n",
       "      <th></th>\n",
       "      <th>0</th>\n",
       "      <th>1</th>\n",
       "      <th>2</th>\n",
       "      <th>3</th>\n",
       "    </tr>\n",
       "  </thead>\n",
       "  <tbody>\n",
       "    <tr>\n",
       "      <th>count</th>\n",
       "      <td>5.000000</td>\n",
       "      <td>5.000000</td>\n",
       "      <td>5.000000</td>\n",
       "      <td>5.000000</td>\n",
       "    </tr>\n",
       "    <tr>\n",
       "      <th>mean</th>\n",
       "      <td>1.634000</td>\n",
       "      <td>1.636000</td>\n",
       "      <td>1.650000</td>\n",
       "      <td>1.646000</td>\n",
       "    </tr>\n",
       "    <tr>\n",
       "      <th>std</th>\n",
       "      <td>0.173003</td>\n",
       "      <td>0.145705</td>\n",
       "      <td>0.139463</td>\n",
       "      <td>0.131833</td>\n",
       "    </tr>\n",
       "    <tr>\n",
       "      <th>min</th>\n",
       "      <td>1.400000</td>\n",
       "      <td>1.420000</td>\n",
       "      <td>1.450000</td>\n",
       "      <td>1.480000</td>\n",
       "    </tr>\n",
       "    <tr>\n",
       "      <th>25%</th>\n",
       "      <td>1.540000</td>\n",
       "      <td>1.570000</td>\n",
       "      <td>1.580000</td>\n",
       "      <td>1.590000</td>\n",
       "    </tr>\n",
       "    <tr>\n",
       "      <th>50%</th>\n",
       "      <td>1.650000</td>\n",
       "      <td>1.690000</td>\n",
       "      <td>1.670000</td>\n",
       "      <td>1.600000</td>\n",
       "    </tr>\n",
       "    <tr>\n",
       "      <th>75%</th>\n",
       "      <td>1.730000</td>\n",
       "      <td>1.700000</td>\n",
       "      <td>1.750000</td>\n",
       "      <td>1.760000</td>\n",
       "    </tr>\n",
       "    <tr>\n",
       "      <th>max</th>\n",
       "      <td>1.850000</td>\n",
       "      <td>1.800000</td>\n",
       "      <td>1.800000</td>\n",
       "      <td>1.800000</td>\n",
       "    </tr>\n",
       "  </tbody>\n",
       "</table>\n",
       "</div>"
      ],
      "text/plain": [
       "              0         1         2         3\n",
       "count  5.000000  5.000000  5.000000  5.000000\n",
       "mean   1.634000  1.636000  1.650000  1.646000\n",
       "std    0.173003  0.145705  0.139463  0.131833\n",
       "min    1.400000  1.420000  1.450000  1.480000\n",
       "25%    1.540000  1.570000  1.580000  1.590000\n",
       "50%    1.650000  1.690000  1.670000  1.600000\n",
       "75%    1.730000  1.700000  1.750000  1.760000\n",
       "max    1.850000  1.800000  1.800000  1.800000"
      ]
     },
     "execution_count": 44,
     "metadata": {},
     "output_type": "execute_result"
    }
   ],
   "source": [
    "df = pd.DataFrame(muestra)\n",
    "df.describe()"
   ]
  },
  {
   "cell_type": "markdown",
   "metadata": {},
   "source": [
    "4. Con los siguientes datos construye un df y un array que permitan describir adecuadamente la muestra.\n",
    "'Ingreso en miles' : 10.5\t6.8\t20.7\t18.2\t8.6\t25.8\t22.2\t5.9\t7.6\t11.8 \n",
    "'Años de estudio': 17\t18\t21\t16\t16\t21\t16\t14\t18\t18 "
   ]
  },
  {
   "cell_type": "code",
   "execution_count": 53,
   "metadata": {},
   "outputs": [
    {
     "name": "stdout",
     "output_type": "stream",
     "text": [
      "Estadísticas para 'Ingreso en miles':\n",
      "Media: 13.809999999999999\n",
      "Mediana: 11.15\n",
      "Desviación Estándar: 6.87974563483273\n",
      "Rango: 19.9\n",
      "\n",
      "Estadísticas para 'Años de estudio':\n",
      "Media: 17.5\n",
      "\n",
      "DataFrame:\n",
      "   Ingreso en miles  Años de estudio\n",
      "0              10.5               17\n",
      "1               6.8               18\n",
      "2              20.7               21\n",
      "3              18.2               16\n",
      "4               8.6               16\n",
      "5              25.8               21\n",
      "6              22.2               16\n",
      "7               5.9               14\n",
      "8               7.6               18\n",
      "9              11.8               18\n"
     ]
    }
   ],
   "source": [
    "#Crea diccionario con los datos suministrado\n",
    "datos = {'Ingreso en miles' : [10.5,6.8,20.7,18.2,8.6,25.8,22.2,5.9,7.6,11.8],  \n",
    "         'Años de estudio':   [17,18,21,16,16,21,16,14,18,18]}\n",
    "#print(datos)\n",
    "\n",
    "#Crea dataframe\n",
    "df_desc = pd.DataFrame(datos)\n",
    "#print(df)\n",
    "\n",
    "#Crea arreglo\n",
    "array = np.array(datos['Ingreso en miles'])\n",
    "#print(array)\n",
    "\n",
    "# Calcular estadísticas descriptivas\n",
    "media_ingreso = np.mean(array)\n",
    "mediana_ingreso = np.median(array)\n",
    "desviacion_estandar_ingreso = np.std(array)\n",
    "rango_ingreso = np.ptp(array)  # Rango: Valor máximo - Valor mínimo\n",
    "\n",
    "# Imprimir estadísticas\n",
    "print(\"Estadísticas para 'Ingreso en miles':\")\n",
    "print(\"Media:\", media_ingreso)\n",
    "print(\"Mediana:\", mediana_ingreso)\n",
    "print(\"Desviación Estándar:\", desviacion_estandar_ingreso)\n",
    "print(\"Rango:\", rango_ingreso)\n",
    "\n",
    "# Otra estadística para 'Años de estudio'\n",
    "media_estudio = np.mean(datos['Años de estudio'])\n",
    "print(\"\\nEstadísticas para 'Años de estudio':\")\n",
    "print(\"Media:\", media_estudio)\n",
    "\n",
    "# Mostrar el DataFrame\n",
    "print(\"\\nDataFrame:\")\n",
    "print(df_desc)\n"
   ]
  },
  {
   "cell_type": "markdown",
   "metadata": {},
   "source": [
    "5. Realice un histograma para de 6 secciones para 'Ingreso en miles' y 'Años de estudio'."
   ]
  },
  {
   "cell_type": "code",
   "execution_count": 60,
   "metadata": {},
   "outputs": [
    {
     "data": {
      "image/png": "[encoded data removed]",
      "text/plain": [
       "<Figure size 640x480 with 1 Axes>"
      ]
     },
     "metadata": {},
     "output_type": "display_data"
    }
   ],
   "source": [
    "plt.hist(x = df_desc['Ingreso en miles'], bins = 6, color = 'blue', rwidth = 0.8)\n",
    "plt.title(\"Histograma Ingreso en miles\")\n",
    "plt.xlabel(\"Ingreso en miles\")\n",
    "plt.ylabel(\"Frecuecia\")\n",
    "plt.show()"
   ]
  },
  {
   "cell_type": "markdown",
   "metadata": {},
   "source": [
    "6. Cálcula la media de 'Ingreso en miles' (df) utilizando pandas."
   ]
  },
  {
   "cell_type": "code",
   "execution_count": 64,
   "metadata": {},
   "outputs": [
    {
     "data": {
      "text/plain": [
       "13.809999999999999"
      ]
     },
     "execution_count": 64,
     "metadata": {},
     "output_type": "execute_result"
    }
   ],
   "source": [
    "datos = {'Ingreso en miles' : [10.5,6.8,20.7,18.2,8.6,25.8,22.2,5.9,7.6,11.8],  \n",
    "         'Años de estudio':   [17,18,21,16,16,21,16,14,18,18]}\n",
    "\n",
    "#Crea dataframe\n",
    "df_desc = pd.DataFrame(datos)\n",
    "\n",
    "#Calcula la media del df con pandas\n",
    "df_desc['Ingreso en miles'].mean()"
   ]
  },
  {
   "cell_type": "markdown",
   "metadata": {},
   "source": [
    "7. Cálcula la media de 'Ingreso en miles' (array) utilizando numpy."
   ]
  },
  {
   "cell_type": "code",
   "execution_count": 65,
   "metadata": {},
   "outputs": [
    {
     "data": {
      "text/plain": [
       "13.809999999999999"
      ]
     },
     "execution_count": 65,
     "metadata": {},
     "output_type": "execute_result"
    }
   ],
   "source": [
    "datos = {'Ingreso en miles' : [10.5,6.8,20.7,18.2,8.6,25.8,22.2,5.9,7.6,11.8],  \n",
    "         'Años de estudio':   [17,18,21,16,16,21,16,14,18,18]}\n",
    "#print(datos)\n",
    "\n",
    "#Crea arreglo\n",
    "array = np.array(datos['Ingreso en miles'])\n",
    "\n",
    "#Calcula media del array con numpy\n",
    "np.mean(array)"
   ]
  },
  {
   "cell_type": "markdown",
   "metadata": {},
   "source": [
    "8. Agregue los siguientes valores extremos al df [ 50, 35 ], [ 120, 30 ]. \n",
    "¿En cuanto vario la media?, ¿Qué conclusiones obtiene de este resultado sobre la media?."
   ]
  },
  {
   "cell_type": "code",
   "execution_count": 67,
   "metadata": {},
   "outputs": [
    {
     "name": "stderr",
     "output_type": "stream",
     "text": [
      "C:\\Users\\johan\\AppData\\Local\\Temp\\ipykernel_6644\\4174708680.py:12: FutureWarning: The frame.append method is deprecated and will be removed from pandas in a future version. Use pandas.concat instead.\n",
      "  df_values_e = df_desc.append(values_e, ignore_index=True)\n"
     ]
    },
    {
     "ename": "TypeError",
     "evalue": "unsupported operand type(s) for +: 'float' and 'list'",
     "output_type": "error",
     "traceback": [
      "\u001b[1;31m---------------------------------------------------------------------------\u001b[0m",
      "\u001b[1;31mTypeError\u001b[0m                                 Traceback (most recent call last)",
      "\u001b[1;32mc:\\Users\\johan\\OneDrive\\Documents\\Python\\SoyHenry\\Bootcamp\\DS_SoyHenry\\M2\\m2_1_estadistica_h1.ipynb Cell 18\u001b[0m line \u001b[0;36m1\n\u001b[0;32m     <a href='vscode-notebook-cell:/c%3A/Users/johan/OneDrive/Documents/Python/SoyHenry/Bootcamp/DS_SoyHenry/M2/m2_1_estadistica_h1.ipynb#X41sZmlsZQ%3D%3D?line=13'>14</a>\u001b[0m \u001b[39m# Calcular la media antes y después de agregar los valores extremos\u001b[39;00m\n\u001b[0;32m     <a href='vscode-notebook-cell:/c%3A/Users/johan/OneDrive/Documents/Python/SoyHenry/Bootcamp/DS_SoyHenry/M2/m2_1_estadistica_h1.ipynb#X41sZmlsZQ%3D%3D?line=14'>15</a>\u001b[0m media_inicial \u001b[39m=\u001b[39m df_desc[\u001b[39m'\u001b[39m\u001b[39mIngreso en miles\u001b[39m\u001b[39m'\u001b[39m]\u001b[39m.\u001b[39mmean()\n\u001b[1;32m---> <a href='vscode-notebook-cell:/c%3A/Users/johan/OneDrive/Documents/Python/SoyHenry/Bootcamp/DS_SoyHenry/M2/m2_1_estadistica_h1.ipynb#X41sZmlsZQ%3D%3D?line=15'>16</a>\u001b[0m media_con_extremos \u001b[39m=\u001b[39m df_values_e[\u001b[39m'\u001b[39;49m\u001b[39mIngreso en miles\u001b[39;49m\u001b[39m'\u001b[39;49m]\u001b[39m.\u001b[39;49mmean()\n\u001b[0;32m     <a href='vscode-notebook-cell:/c%3A/Users/johan/OneDrive/Documents/Python/SoyHenry/Bootcamp/DS_SoyHenry/M2/m2_1_estadistica_h1.ipynb#X41sZmlsZQ%3D%3D?line=17'>18</a>\u001b[0m \u001b[39m# Imprimir las medias\u001b[39;00m\n\u001b[0;32m     <a href='vscode-notebook-cell:/c%3A/Users/johan/OneDrive/Documents/Python/SoyHenry/Bootcamp/DS_SoyHenry/M2/m2_1_estadistica_h1.ipynb#X41sZmlsZQ%3D%3D?line=18'>19</a>\u001b[0m \u001b[39mprint\u001b[39m(\u001b[39mf\u001b[39m\u001b[39m\"\u001b[39m\u001b[39mMedia inicial: \u001b[39m\u001b[39m{\u001b[39;00mmedia_inicial\u001b[39m:\u001b[39;00m\u001b[39m.2f\u001b[39m\u001b[39m}\u001b[39;00m\u001b[39m\"\u001b[39m)\n",
      "File \u001b[1;32mc:\\Users\\johan\\anaconda3\\lib\\site-packages\\pandas\\core\\generic.py:11847\u001b[0m, in \u001b[0;36mNDFrame._add_numeric_operations.<locals>.mean\u001b[1;34m(self, axis, skipna, level, numeric_only, **kwargs)\u001b[0m\n\u001b[0;32m  11829\u001b[0m \u001b[39m@doc\u001b[39m(\n\u001b[0;32m  11830\u001b[0m     _num_doc,\n\u001b[0;32m  11831\u001b[0m     desc\u001b[39m=\u001b[39m\u001b[39m\"\u001b[39m\u001b[39mReturn the mean of the values over the requested axis.\u001b[39m\u001b[39m\"\u001b[39m,\n\u001b[1;32m   (...)\u001b[0m\n\u001b[0;32m  11845\u001b[0m     \u001b[39m*\u001b[39m\u001b[39m*\u001b[39mkwargs,\n\u001b[0;32m  11846\u001b[0m ):\n\u001b[1;32m> 11847\u001b[0m     \u001b[39mreturn\u001b[39;00m NDFrame\u001b[39m.\u001b[39mmean(\u001b[39mself\u001b[39m, axis, skipna, level, numeric_only, \u001b[39m*\u001b[39m\u001b[39m*\u001b[39mkwargs)\n",
      "File \u001b[1;32mc:\\Users\\johan\\anaconda3\\lib\\site-packages\\pandas\\core\\generic.py:11401\u001b[0m, in \u001b[0;36mNDFrame.mean\u001b[1;34m(self, axis, skipna, level, numeric_only, **kwargs)\u001b[0m\n\u001b[0;32m  11393\u001b[0m \u001b[39mdef\u001b[39;00m \u001b[39mmean\u001b[39m(\n\u001b[0;32m  11394\u001b[0m     \u001b[39mself\u001b[39m,\n\u001b[0;32m  11395\u001b[0m     axis: Axis \u001b[39m|\u001b[39m \u001b[39mNone\u001b[39;00m \u001b[39m|\u001b[39m lib\u001b[39m.\u001b[39mNoDefault \u001b[39m=\u001b[39m lib\u001b[39m.\u001b[39mno_default,\n\u001b[1;32m   (...)\u001b[0m\n\u001b[0;32m  11399\u001b[0m     \u001b[39m*\u001b[39m\u001b[39m*\u001b[39mkwargs,\n\u001b[0;32m  11400\u001b[0m ) \u001b[39m-\u001b[39m\u001b[39m>\u001b[39m Series \u001b[39m|\u001b[39m \u001b[39mfloat\u001b[39m:\n\u001b[1;32m> 11401\u001b[0m     \u001b[39mreturn\u001b[39;00m \u001b[39mself\u001b[39m\u001b[39m.\u001b[39m_stat_function(\n\u001b[0;32m  11402\u001b[0m         \u001b[39m\"\u001b[39m\u001b[39mmean\u001b[39m\u001b[39m\"\u001b[39m, nanops\u001b[39m.\u001b[39mnanmean, axis, skipna, level, numeric_only, \u001b[39m*\u001b[39m\u001b[39m*\u001b[39mkwargs\n\u001b[0;32m  11403\u001b[0m     )\n",
      "File \u001b[1;32mc:\\Users\\johan\\anaconda3\\lib\\site-packages\\pandas\\core\\generic.py:11353\u001b[0m, in \u001b[0;36mNDFrame._stat_function\u001b[1;34m(self, name, func, axis, skipna, level, numeric_only, **kwargs)\u001b[0m\n\u001b[0;32m  11343\u001b[0m     warnings\u001b[39m.\u001b[39mwarn(\n\u001b[0;32m  11344\u001b[0m         \u001b[39m\"\u001b[39m\u001b[39mUsing the level keyword in DataFrame and Series aggregations is \u001b[39m\u001b[39m\"\u001b[39m\n\u001b[0;32m  11345\u001b[0m         \u001b[39m\"\u001b[39m\u001b[39mdeprecated and will be removed in a future version. Use groupby \u001b[39m\u001b[39m\"\u001b[39m\n\u001b[1;32m   (...)\u001b[0m\n\u001b[0;32m  11348\u001b[0m         stacklevel\u001b[39m=\u001b[39mfind_stack_level(),\n\u001b[0;32m  11349\u001b[0m     )\n\u001b[0;32m  11350\u001b[0m     \u001b[39mreturn\u001b[39;00m \u001b[39mself\u001b[39m\u001b[39m.\u001b[39m_agg_by_level(\n\u001b[0;32m  11351\u001b[0m         name, axis\u001b[39m=\u001b[39maxis, level\u001b[39m=\u001b[39mlevel, skipna\u001b[39m=\u001b[39mskipna, numeric_only\u001b[39m=\u001b[39mnumeric_only\n\u001b[0;32m  11352\u001b[0m     )\n\u001b[1;32m> 11353\u001b[0m \u001b[39mreturn\u001b[39;00m \u001b[39mself\u001b[39;49m\u001b[39m.\u001b[39;49m_reduce(\n\u001b[0;32m  11354\u001b[0m     func, name\u001b[39m=\u001b[39;49mname, axis\u001b[39m=\u001b[39;49maxis, skipna\u001b[39m=\u001b[39;49mskipna, numeric_only\u001b[39m=\u001b[39;49mnumeric_only\n\u001b[0;32m  11355\u001b[0m )\n",
      "File \u001b[1;32mc:\\Users\\johan\\anaconda3\\lib\\site-packages\\pandas\\core\\series.py:4816\u001b[0m, in \u001b[0;36mSeries._reduce\u001b[1;34m(self, op, name, axis, skipna, numeric_only, filter_type, **kwds)\u001b[0m\n\u001b[0;32m   4812\u001b[0m     \u001b[39mraise\u001b[39;00m \u001b[39mNotImplementedError\u001b[39;00m(\n\u001b[0;32m   4813\u001b[0m         \u001b[39mf\u001b[39m\u001b[39m\"\u001b[39m\u001b[39mSeries.\u001b[39m\u001b[39m{\u001b[39;00mname\u001b[39m}\u001b[39;00m\u001b[39m does not implement \u001b[39m\u001b[39m{\u001b[39;00mkwd_name\u001b[39m}\u001b[39;00m\u001b[39m.\u001b[39m\u001b[39m\"\u001b[39m\n\u001b[0;32m   4814\u001b[0m     )\n\u001b[0;32m   4815\u001b[0m \u001b[39mwith\u001b[39;00m np\u001b[39m.\u001b[39merrstate(\u001b[39mall\u001b[39m\u001b[39m=\u001b[39m\u001b[39m\"\u001b[39m\u001b[39mignore\u001b[39m\u001b[39m\"\u001b[39m):\n\u001b[1;32m-> 4816\u001b[0m     \u001b[39mreturn\u001b[39;00m op(delegate, skipna\u001b[39m=\u001b[39mskipna, \u001b[39m*\u001b[39m\u001b[39m*\u001b[39mkwds)\n",
      "File \u001b[1;32mc:\\Users\\johan\\anaconda3\\lib\\site-packages\\pandas\\core\\nanops.py:93\u001b[0m, in \u001b[0;36mdisallow.__call__.<locals>._f\u001b[1;34m(*args, **kwargs)\u001b[0m\n\u001b[0;32m     91\u001b[0m \u001b[39mtry\u001b[39;00m:\n\u001b[0;32m     92\u001b[0m     \u001b[39mwith\u001b[39;00m np\u001b[39m.\u001b[39merrstate(invalid\u001b[39m=\u001b[39m\u001b[39m\"\u001b[39m\u001b[39mignore\u001b[39m\u001b[39m\"\u001b[39m):\n\u001b[1;32m---> 93\u001b[0m         \u001b[39mreturn\u001b[39;00m f(\u001b[39m*\u001b[39margs, \u001b[39m*\u001b[39m\u001b[39m*\u001b[39mkwargs)\n\u001b[0;32m     94\u001b[0m \u001b[39mexcept\u001b[39;00m \u001b[39mValueError\u001b[39;00m \u001b[39mas\u001b[39;00m e:\n\u001b[0;32m     95\u001b[0m     \u001b[39m# we want to transform an object array\u001b[39;00m\n\u001b[0;32m     96\u001b[0m     \u001b[39m# ValueError message to the more typical TypeError\u001b[39;00m\n\u001b[0;32m     97\u001b[0m     \u001b[39m# e.g. this is normally a disallowed function on\u001b[39;00m\n\u001b[0;32m     98\u001b[0m     \u001b[39m# object arrays that contain strings\u001b[39;00m\n\u001b[0;32m     99\u001b[0m     \u001b[39mif\u001b[39;00m is_object_dtype(args[\u001b[39m0\u001b[39m]):\n",
      "File \u001b[1;32mc:\\Users\\johan\\anaconda3\\lib\\site-packages\\pandas\\core\\nanops.py:155\u001b[0m, in \u001b[0;36mbottleneck_switch.__call__.<locals>.f\u001b[1;34m(values, axis, skipna, **kwds)\u001b[0m\n\u001b[0;32m    153\u001b[0m         result \u001b[39m=\u001b[39m alt(values, axis\u001b[39m=\u001b[39maxis, skipna\u001b[39m=\u001b[39mskipna, \u001b[39m*\u001b[39m\u001b[39m*\u001b[39mkwds)\n\u001b[0;32m    154\u001b[0m \u001b[39melse\u001b[39;00m:\n\u001b[1;32m--> 155\u001b[0m     result \u001b[39m=\u001b[39m alt(values, axis\u001b[39m=\u001b[39maxis, skipna\u001b[39m=\u001b[39mskipna, \u001b[39m*\u001b[39m\u001b[39m*\u001b[39mkwds)\n\u001b[0;32m    157\u001b[0m \u001b[39mreturn\u001b[39;00m result\n",
      "File \u001b[1;32mc:\\Users\\johan\\anaconda3\\lib\\site-packages\\pandas\\core\\nanops.py:418\u001b[0m, in \u001b[0;36m_datetimelike_compat.<locals>.new_func\u001b[1;34m(values, axis, skipna, mask, **kwargs)\u001b[0m\n\u001b[0;32m    415\u001b[0m \u001b[39mif\u001b[39;00m datetimelike \u001b[39mand\u001b[39;00m mask \u001b[39mis\u001b[39;00m \u001b[39mNone\u001b[39;00m:\n\u001b[0;32m    416\u001b[0m     mask \u001b[39m=\u001b[39m isna(values)\n\u001b[1;32m--> 418\u001b[0m result \u001b[39m=\u001b[39m func(values, axis\u001b[39m=\u001b[39maxis, skipna\u001b[39m=\u001b[39mskipna, mask\u001b[39m=\u001b[39mmask, \u001b[39m*\u001b[39m\u001b[39m*\u001b[39mkwargs)\n\u001b[0;32m    420\u001b[0m \u001b[39mif\u001b[39;00m datetimelike:\n\u001b[0;32m    421\u001b[0m     result \u001b[39m=\u001b[39m _wrap_results(result, orig_values\u001b[39m.\u001b[39mdtype, fill_value\u001b[39m=\u001b[39miNaT)\n",
      "File \u001b[1;32mc:\\Users\\johan\\anaconda3\\lib\\site-packages\\pandas\\core\\nanops.py:706\u001b[0m, in \u001b[0;36mnanmean\u001b[1;34m(values, axis, skipna, mask)\u001b[0m\n\u001b[0;32m    703\u001b[0m     dtype_count \u001b[39m=\u001b[39m dtype\n\u001b[0;32m    705\u001b[0m count \u001b[39m=\u001b[39m _get_counts(values\u001b[39m.\u001b[39mshape, mask, axis, dtype\u001b[39m=\u001b[39mdtype_count)\n\u001b[1;32m--> 706\u001b[0m the_sum \u001b[39m=\u001b[39m _ensure_numeric(values\u001b[39m.\u001b[39;49msum(axis, dtype\u001b[39m=\u001b[39;49mdtype_sum))\n\u001b[0;32m    708\u001b[0m \u001b[39mif\u001b[39;00m axis \u001b[39mis\u001b[39;00m \u001b[39mnot\u001b[39;00m \u001b[39mNone\u001b[39;00m \u001b[39mand\u001b[39;00m \u001b[39mgetattr\u001b[39m(the_sum, \u001b[39m\"\u001b[39m\u001b[39mndim\u001b[39m\u001b[39m\"\u001b[39m, \u001b[39mFalse\u001b[39;00m):\n\u001b[0;32m    709\u001b[0m     count \u001b[39m=\u001b[39m cast(np\u001b[39m.\u001b[39mndarray, count)\n",
      "File \u001b[1;32mc:\\Users\\johan\\anaconda3\\lib\\site-packages\\numpy\\core\\_methods.py:48\u001b[0m, in \u001b[0;36m_sum\u001b[1;34m(a, axis, dtype, out, keepdims, initial, where)\u001b[0m\n\u001b[0;32m     46\u001b[0m \u001b[39mdef\u001b[39;00m \u001b[39m_sum\u001b[39m(a, axis\u001b[39m=\u001b[39m\u001b[39mNone\u001b[39;00m, dtype\u001b[39m=\u001b[39m\u001b[39mNone\u001b[39;00m, out\u001b[39m=\u001b[39m\u001b[39mNone\u001b[39;00m, keepdims\u001b[39m=\u001b[39m\u001b[39mFalse\u001b[39;00m,\n\u001b[0;32m     47\u001b[0m          initial\u001b[39m=\u001b[39m_NoValue, where\u001b[39m=\u001b[39m\u001b[39mTrue\u001b[39;00m):\n\u001b[1;32m---> 48\u001b[0m     \u001b[39mreturn\u001b[39;00m umr_sum(a, axis, dtype, out, keepdims, initial, where)\n",
      "\u001b[1;31mTypeError\u001b[0m: unsupported operand type(s) for +: 'float' and 'list'"
     ]
    }
   ],
   "source": [
    "datos = {'Ingreso en miles' : [10.5,6.8,20.7,18.2,8.6,25.8,22.2,5.9,7.6,11.8],  \n",
    "         'Años de estudio':   [17,18,21,16,16,21,16,14,18,18]}\n",
    "\n",
    "#Crea dataframe\n",
    "df_desc = pd.DataFrame(datos)\n",
    "\n",
    "#Agrega valores extremos\n",
    "values_e = {'Ingreso en miles' : [50,120],\n",
    "            'Años de estudio': [35, 30]}\n",
    "\n",
    "# Agregar valores extremos al DataFrame\n",
    "df_values_e = df_desc.append(values_e, ignore_index=True)\n",
    "\n",
    "# Calcular la media antes y después de agregar los valores extremos\n",
    "media_inicial = df_desc['Ingreso en miles'].mean()\n",
    "media_con_extremos = df_values_e['Ingreso en miles'].mean()\n",
    "\n",
    "# Imprimir las medias\n",
    "print(f\"Media inicial: {media_inicial:.2f}\")\n",
    "print(f\"Media con valores extremos: {media_con_extremos:.2f}\")\n",
    "\n",
    "# Calcular el cambio en la media\n",
    "cambio_media = media_con_extremos - media_inicial\n",
    "print(f\"Cambio en la media: {cambio_media:.2f}\")"
   ]
  },
  {
   "cell_type": "code",
   "execution_count": 66,
   "metadata": {},
   "outputs": [
    {
     "name": "stdout",
     "output_type": "stream",
     "text": [
      "La media aritmética (promedio) del array es: 1.6415\n"
     ]
    }
   ],
   "source": [
    "''' Media aritmetica - promedio (Cálculo sin librería):\n",
    "Suma de los valores de todas las observaciones, dividido la cantidad de elementos de la muestra.'''\n",
    "\n",
    "# Inicializar la suma total y el contador de elementos\n",
    "suma_total = 0\n",
    "elementos_totales = 0\n",
    "\n",
    "# Recorrer todas las filas y columnas del array\n",
    "for fila in muestra:\n",
    "    for elemento in fila:\n",
    "        suma_total += elemento\n",
    "        elementos_totales += 1\n",
    "\n",
    "# Calcular la media aritmética (promedio)\n",
    "promedio = suma_total / elementos_totales\n",
    "\n",
    "# Imprimir el promedio\n",
    "print(\"La media aritmética (promedio) del array es:\", promedio)"
   ]
  },
  {
   "cell_type": "code",
   "execution_count": null,
   "metadata": {},
   "outputs": [
    {
     "name": "stdout",
     "output_type": "stream",
     "text": [
      "La mediana del array es: 1.66\n",
      "La mediana global del array es: 1.66\n"
     ]
    }
   ],
   "source": [
    "''' Mediana (Cálculo sin librería): \n",
    "Mide la observación central del conjunto. ✔ Para hallar la mediana de un conjunto de datos, primero se \n",
    "organizan en orden descendente o ascendente. El elemento que está más al centro del conjunto de números, \n",
    "la mitad de los elementos están por arriba de este punto y la otra mitad está por debajo.'''\n",
    "\n",
    "# Aplanar la matriz en una lista\n",
    "lista_valores = muestra.flatten() \n",
    "\n",
    "# Ordenar la lista (siempre es necesario)\n",
    "lista_valores.sort()\n",
    "\n",
    "# Calcular la mediana\n",
    "n = len(lista_valores)\n",
    "if n % 2 == 0:\n",
    "    # Si hay un número par de elementos, calcular el promedio de los dos valores del medio\n",
    "    mediana = (lista_valores[n // 2 - 1] + lista_valores[n // 2]) / 2\n",
    "else:\n",
    "    # Si hay un número impar de elementos, la mediana es el valor del medio\n",
    "    mediana = lista_valores[n // 2]\n",
    "\n",
    "# Imprimir la mediana\n",
    "print(\"La mediana del array es:\", mediana)\n",
    "\n",
    "#----------------------------------------------------------------------\n",
    "\n",
    "#mediana por fila / global\n",
    "\n",
    "# Redondear todos los valores a dos decimales\n",
    "rounded_array = np.around(muestra, decimals=2)\n",
    "\n",
    "# Calcular la mediana para cada fila\n",
    "median_row = np.median(rounded_array, axis=1)\n",
    "\n",
    "# Calcular la mediana global\n",
    "mediana_global = np.median(median_row)\n",
    "\n",
    "# Imprimir la mediana global\n",
    "print(\"La mediana global del array es:\", mediana_global)"
   ]
  },
  {
   "cell_type": "code",
   "execution_count": null,
   "metadata": {},
   "outputs": [
    {
     "name": "stdout",
     "output_type": "stream",
     "text": [
      "La moda del array es: [1.8]\n"
     ]
    }
   ],
   "source": [
    "'''Moda (Cálculo sin librería): \n",
    "Es el valor que más se repite en el conjunto de datos. '''\n",
    "\n",
    "# Aplana la matriz en una lista de valores\n",
    "lista_valores = muestra.flatten()\n",
    "\n",
    "# Crear un diccionario de frecuencia\n",
    "frecuencia = {}\n",
    "for valor in lista_valores:\n",
    "    if valor in frecuencia:\n",
    "        frecuencia[valor] += 1\n",
    "    else:\n",
    "        frecuencia[valor] = 1\n",
    "    #print(valor)\n",
    "\n",
    "# Encontrar el valor o los valores con la frecuencia máxima\n",
    "max_frecuencia = max(frecuencia.values())\n",
    "moda = [valor for valor, frec in frecuencia.items() if frec == max_frecuencia]\n",
    "\n",
    "# Imprimir la moda\n",
    "print(\"La moda del array es:\", moda)"
   ]
  },
  {
   "cell_type": "code",
   "execution_count": null,
   "metadata": {},
   "outputs": [
    {
     "name": "stdout",
     "output_type": "stream",
     "text": [
      "La varianza del array es: 0.017642750000000006\n"
     ]
    }
   ],
   "source": [
    "'''Varianza (Cálculo sin librería):\n",
    "Es la suma de los cuadrados de las distancias entre la media y cada elemento de la población, dividido entre el número total de \n",
    "observaciones.'''\n",
    "\n",
    "# Calcular la media (promedio) de la matriz\n",
    "media = muestra.mean()\n",
    "\n",
    "# Inicializar la suma de los cuadrados de las diferencias\n",
    "suma_cuadrados_diferencias = 0\n",
    "\n",
    "# Calcular la suma de los cuadrados de las diferencias\n",
    "for fila in muestra:\n",
    "    for valor in fila:\n",
    "        diferencia = valor - media\n",
    "        suma_cuadrados_diferencias += diferencia ** 2\n",
    "\n",
    "# Calcular la varianza dividiendo la suma de los cuadrados por el número de elementos\n",
    "varianza = suma_cuadrados_diferencias / muestra.size\n",
    "\n",
    "# Imprimir la varianza\n",
    "print(\"La varianza del array es:\", varianza)"
   ]
  },
  {
   "cell_type": "code",
   "execution_count": null,
   "metadata": {},
   "outputs": [
    {
     "name": "stdout",
     "output_type": "stream",
     "text": [
      "La desviación estándar del array es: 0.13282601401833907\n"
     ]
    }
   ],
   "source": [
    "'''Desvío estándar (Cálculo sin librería): \n",
    "Es una medida de dispersión que indica cuánto varían los valores en un conjunto de datos. Se calcula tomando la raíz \n",
    "cuadrada de la varianza. '''\n",
    "\n",
    "# Calcular la media (promedio) de la matriz\n",
    "media = muestra.mean()\n",
    "\n",
    "# Inicializar la suma de los cuadrados de las diferencias\n",
    "suma_cuadrados_diferencias = 0\n",
    "\n",
    "# Calcular la suma de los cuadrados de las diferencias\n",
    "for fila in muestra:\n",
    "    for valor in fila:\n",
    "        diferencia = valor - media\n",
    "        suma_cuadrados_diferencias += diferencia ** 2\n",
    "\n",
    "# Calcular la varianza dividiendo la suma de los cuadrados por el número de elementos\n",
    "varianza = suma_cuadrados_diferencias / muestra.size\n",
    "\n",
    "# Calcular la desviación estándar tomando la raíz cuadrada de la varianza\n",
    "desviacion_estandar = varianza ** 0.5\n",
    "\n",
    "# Imprimir la desviación estándar\n",
    "print(\"La desviación estándar del array es:\", desviacion_estandar)\n"
   ]
  }
 ],
 "metadata": {
  "kernelspec": {
   "display_name": "base",
   "language": "python",
   "name": "python3"
  },
  "language_info": {
   "codemirror_mode": {
    "name": "ipython",
    "version": 3
   },
   "file_extension": ".py",
   "mimetype": "text/x-python",
   "name": "python",
   "nbconvert_exporter": "python",
   "pygments_lexer": "ipython3",
   "version": "3.10.9"
  },
  "orig_nbformat": 4
 },
 "nbformat": 4,
 "nbformat_minor": 2
}
