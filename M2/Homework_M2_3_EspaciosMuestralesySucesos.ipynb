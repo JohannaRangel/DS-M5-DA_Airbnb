{
 "cells": [
  {
   "cell_type": "markdown",
   "metadata": {},
   "source": [
    "1. Suponga dos eventos, A y B, y que P(A) = 0.50, P(B) = 0.60 y P(A ∩ B) = 0.40.\n",
    "- a. Halle P(A | B).\n",
    "- b. Halle P(B | A).\n",
    "- c. ¿A y B son independientes? ¿Por qué sí o por qué no?"
   ]
  },
  {
   "cell_type": "code",
   "execution_count": null,
   "metadata": {},
   "outputs": [],
   "source": [
    "#evento     #probabilidad\n",
    "#   A       P(A) \n",
    "#   B       P(B) \n",
    "\n",
    "P(A) = 0.50\n",
    "P(B) = 0.60\n",
    "P(A ∩ B) = 0.40\n",
    "\n",
    "\n",
    "# a. Halle P(A | B)\n",
    "#fórmula: Evento independiente, probabilidad condicional P(A|B)\n",
    "#P(A | B) = P(A ∩ B) / P(B)\n",
    "#P(A | B) = (P(A) * P(B)) / P(B)\n",
    "#P(A | B) = P(A)\n",
    "P(A | B) = 0.50 \n",
    "\n",
    "\n",
    "#b. Halle P(B | A)\n",
    "#fórmula: Evento independiente, probabilidad condicional P(B|A)\n",
    "#P(B | A) = P(A ∩ B) / P(A)\n",
    "#P(B | A) = (P(A) * P(B)) / P(A)\n",
    "#P(B | A) = P(B)\n",
    "P(B | A) = 0.60\n",
    "\n",
    "\n",
    "#c. ¿A y B son independientes? ¿Por qué sí o por qué no?\n",
    "#fórmula\n",
    "#P(A ∩ B) = P(A) * P(B)\n",
    "0.40 = 0.50 * 0.60\n",
    "0.40 = 0.30 #A y B no son independientes porque no satisface la igualdad"
   ]
  },
  {
   "cell_type": "markdown",
   "metadata": {},
   "source": [
    "2. Suponga dos eventos, A y B, que son mutuamente excluyentes. Admita, además, que P(A) = 0.30 y P(B) = 0.40.<br>\n",
    "- a. Obtenga P(A ∩ B). ¿Existe intersección entre los dos conjuntos?.\n",
    "- b. Calcule P(A | B).\n",
    "- c. Un estudiante de estadística argumenta que los conceptos de eventos mutuamente excluyentes y eventos independientes son en realidad lo mismo y que si los eventos son mutuamente excluyentes deben ser también independientes. ¿Está usted de acuerdo? Use la información sobre las probabilidades para justificar su respuesta."
   ]
  },
  {
   "cell_type": "code",
   "execution_count": null,
   "metadata": {},
   "outputs": [],
   "source": [
    "#eventos    Probabilidad\n",
    "#   A       P(A)\n",
    "#   B       P(B)\n",
    "P(A) = 0.30\n",
    "P(B) = 0.40\n",
    "\n",
    "#a. Obtenga P(A ∩ B). ¿Existe intersección entre los dos conjuntos?.\n",
    "#fórmula: Evento independiente P(A ∩ B)\n",
    "#P(A ∩ B) = P(A) * P(B)\n",
    "P(A ∩ B) = 0.30 * 0.40 = 0.12 #Si existe intersección\n",
    "#a=0.18,(A ∩ B)=0.12,b=0.28 = 0.58\n",
    "#P(AuB) = P(A) + P(B) - P(AnB) => (0.30+0.40) - 0.12 = 0.58\n",
    "\n",
    "\n",
    "#b. Calcule P(A | B).\n",
    "#fórmula: Evento independiente, probabilidad condicional P(A|B)\n",
    "#P(A | B) = P(A ∩ B) / P(B)\n",
    "#P(A | B) = (P(A) * P(B)) / P(B)\n",
    "#P(A | B) = P(A)\n",
    "P(A | B) = 0.30 \n",
    "\n",
    "\n",
    "#c. Un estudiante de estadística argumenta que los conceptos de eventos mutuamente excluyentes y eventos independientes son en realidad lo mismo y que si los eventos son mutuamente excluyentes deben ser también independientes. ¿Está usted de acuerdo? Use la información sobre las probabilidades para justificar su respuesta.\n",
    "#son conceptos distintos en probabilidad, y la independencia no implica mutua exclusión ni viceversa. "
   ]
  },
  {
   "cell_type": "markdown",
   "metadata": {},
   "source": [
    "3. Si en la concesionaria se seleccionan dos ventas con reposición (Los sucesos son independientes.). Hallar la probabilidad de que las ventas sean:<br>\n",
    "- a. La primera de un comprador de “menos de 40 años” y la segunda de uno de \"entre 40 y 50 años\". \n",
    "- b. las dos sean de autos \"nacionales\"."
   ]
  },
  {
   "cell_type": "code",
   "execution_count": null,
   "metadata": {},
   "outputs": [],
   "source": [
    "#3. Si en la concesionaria se seleccionan dos ventas con reposición (Los sucesos son independientes.). Hallar la probabilidad de que las ventas sean:<br>\n",
    " \n",
    "#a. La primera de un comprador de “menos de 40 años” y la segunda de uno de \"entre 40 y 50 años\". \n",
    "  \n",
    "#b. las dos sean de autos \"nacionales\"."
   ]
  }
 ],
 "metadata": {
  "language_info": {
   "name": "python"
  },
  "orig_nbformat": 4
 },
 "nbformat": 4,
 "nbformat_minor": 2
}
