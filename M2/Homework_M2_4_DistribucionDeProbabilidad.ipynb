{
 "cells": [
  {
   "cell_type": "code",
   "execution_count": 2,
   "metadata": {},
   "outputs": [
    {
     "data": {
      "text/plain": [
       "'c. ¿Es una variable aleatoria discreta o continua?'"
      ]
     },
     "execution_count": 2,
     "metadata": {},
     "output_type": "execute_result"
    }
   ],
   "source": [
    "'''1.Considera el experimento que consiste en un empleado que arma un producto.'''\n",
    "\n",
    "'''a. Defina la variable aleatoria que represente el tiempo en minutos requerido para armar el producto.'''\n",
    "#variable aleatoria X= tiempo en minutos requerido para armar el producto\n",
    "\n",
    "\n",
    "'''b. ¿Qué valores toma la variable aleatoria?'''\n",
    "# puedes obtener valores como 1 minuto, 2 minutos, etc., \n",
    "\n",
    "\n",
    "'''c. ¿Es una variable aleatoria discreta o continua?'''\n",
    "# es una variable aleatoria discreta, porque el tiempo se mide en minutos\n",
    "# si mides el tiempo con mayor precisión, por ejemplo, en segundos, y puedes obtener valores como 1.5 minutos, 2.25 minutos, etc., entonces sería una variable aleatoria continua."
   ]
  },
  {
   "cell_type": "code",
   "execution_count": 3,
   "metadata": {},
   "outputs": [
    {
     "data": {
      "text/plain": [
       "'d. ¿Es una variable aleatoria discreta o continua?'"
      ]
     },
     "execution_count": 3,
     "metadata": {},
     "output_type": "execute_result"
    }
   ],
   "source": [
    "''' 2. Considera el experimento que consiste en lanzar una moneda dos veces.'''\n",
    "\n",
    "'''a. Enumere los resultados experimentales.'''\n",
    "#Se lanzas 1 moneda 2 veces: Los resultados posibles son combinaciones de 2 lanzamientos\n",
    "#CC (Cara en el primer lanzamiento y cara en el segundo lanzamiento).\n",
    "#CX (Cara en el primer lanzamiento y cruz en el segundo lanzamiento).\n",
    "#XC (Cruz en el primer lanzamiento y cara en el segundo lanzamiento).\n",
    "#XX (Cruz en el primer lanzamiento y cruz en el segundo lanzamiento).\n",
    "\n",
    "\n",
    "'''b. Defina una variable aleatoria que represente el número de caras en los  dos lanzamientos.'''\n",
    "#variable aleatoria NC= número de caras en los  dos lanzamientos\n",
    "\n",
    "\n",
    "'''c. Dé el valor que la variable aleatoria tomará en cada uno de los resultados experimentales.'''\n",
    "#Los posibles valores que puede tomar NC son 0, 1 y 2, ya que puedes obtener 0 caras, 1 cara o 2 caras en los dos lanzamientos.\n",
    "\n",
    "\n",
    "'''d. ¿Es una variable aleatoria discreta o continua?'''\n",
    "#Es una variable aleatoria discreta porque toma un número finito de valores"
   ]
  },
  {
   "cell_type": "code",
   "execution_count": 4,
   "metadata": {},
   "outputs": [
    {
     "name": "stdout",
     "output_type": "stream",
     "text": [
      "0.18899999999999992 \n",
      "\n",
      "La probabilidad de que, 2 de los próximos 3 clientes realicen una compra es de: 0.189\n",
      "None \n",
      "\n",
      "La probabilidad de que, 4 de los próximos 10 clientes realicen una compra es de: 0.20012094899999994\n",
      "None \n",
      "\n",
      "0.2001209489999999 \n",
      "\n"
     ]
    }
   ],
   "source": [
    "'''3. Considera las decisiones de compra de los próximos tres clientes que lleguen a la tienda de ropa Martin Clothing Store. \n",
    "De acuerdo con la experiencia, el gerente de la tienda estima que la probabilidad de que un cliente realice una compra es 0.30. '''\n",
    "\n",
    "'''a. Describa si cumple con las reglas para clasificarlo como un experimiento binomial.'''\n",
    "#Si cumple.\n",
    "    #El experimento consiste en una serie de n ensayos idénticos: 3 clientes que lleguen\n",
    "    #En cada ensayo hay dos resultados posibles. Exito: Que el cliente realice una compra      Fracaso: Que no compre\n",
    "    #La probabilidad de éxito, que se denota p, no cambia de un ensayo a otro (debe ser constante en todos los ensayos). Por ende, la probabilidad de fracaso, que se denota 1 - p, tampoco cambia de un ensayo a otro.\n",
    "    #   La probabilidad de que un cliente realice una compra es constante y se estima en p = 0.30 para cada cliente (1-p= 0.70).  \n",
    "    #Los ensayos son independientes, porque los clientes van a la tienda aleatoriamente y  toma una decisión de compra de forma independiente de los otros clientes. \n",
    "\n",
    "'''b. ¿Cuál es la probabilidad de que dos de los próximos tres clientes realicen una compra?'''\n",
    "\n",
    "# Construir una función Binomial\n",
    "#Fórmula: P(X = k) = (nCk) * (p^k) * ((1-p)^(n-k))\n",
    "    #Donde:\n",
    "        #n es el número de ensayos (3 clientes).\n",
    "        #k es el número de éxitos deseados (2 clientes).\n",
    "        #p es la probabilidad de éxito en un solo ensayo (0.30).\n",
    "        #(1-p) es la probabilidad de fracaso en un solo ensayo (1 - 0.30 = 0.70).\n",
    "\n",
    "#Una forma de resolverlo -----------------------------------------------\n",
    "#Este código utiliza la función binom.pmf(k, n, p) de SciPy, donde k es el número de éxitos deseados (en este caso, 2 clientes realizando \n",
    "# una compra), n es el número de clientes y p es la probabilidad de compra en un solo cliente. La función devuelve la probabilidad de que \n",
    "# ocurran exactamente 2 éxitos en 3 clientes.\n",
    "\n",
    "from scipy.stats import binom\n",
    "\n",
    "def calcular_probabilidad_exitos(n, p, k):\n",
    "#n Número de ensayos, número de clientes\n",
    "#p Probabilidad de éxito en un solo ensayo, probabilidad de compra en un solo cliente\n",
    "#k Número de éxitos deseados.\n",
    "\n",
    "# Calcular la probabilidad de que dos de los próximos tres clientes realicen una compra\n",
    "  probabilidad = binom.pmf(k, n, p)\n",
    "  return probabilidad\n",
    "\n",
    "# Ejemplo de uso\n",
    "n = 3\n",
    "p = 0.30\n",
    "k = 2\n",
    "resultado = calcular_probabilidad_exitos(n, p, k)\n",
    "print(resultado,\"\\n\")\n",
    "\n",
    "#Otra forma de resolverlo -----------------------------------------------\n",
    "from math import factorial\n",
    "\n",
    "def funcion_binomial(k,n,p):\n",
    "  num_exitos = factorial(n) #Factorial de la cantidad de casos de éxito buscados.\n",
    "  num_eventos = factorial (k) * factorial(n-k) #Factorial del espacio muestral.\n",
    "  exitos_fracaso=pow(p,k) * pow(1-p,(n-k)) # Probabilidad de exitos y fracasos.\n",
    "\n",
    "  binomial = (num_exitos / num_eventos) * exitos_fracaso #Aplicación de la función binomial.\n",
    "   \n",
    "  return print(f'La probabilidad de que, {k} de los próximos {n} clientes realicen una compra es de: {binomial}')\n",
    "\n",
    "\n",
    "#Probabilidad de obtener 2 compras, 3 clientes que lleguen y una probabilidad de éxito del 0.30.\n",
    "print(funcion_binomial(2,3,0.30),\"\\n\") \n",
    "\n",
    "\n",
    "'''c. ¿Cuál es la probabilidad de que cuatro de los próximos diez clientes realicen una compra?'''\n",
    "\n",
    "#Probabilidad de obtener 4 compras, 10 clientes que lleguen y una probabilidad de éxito del 0.30.\n",
    "print(funcion_binomial(4,10,0.30),\"\\n\")\n",
    "\n",
    "# Ejemplo de uso\n",
    "n = 10\n",
    "p = 0.30\n",
    "k = 4\n",
    "resultado = calcular_probabilidad_exitos(n, p, k)\n",
    "print(resultado,\"\\n\")"
   ]
  },
  {
   "cell_type": "code",
   "execution_count": 5,
   "metadata": {},
   "outputs": [
    {
     "name": "stdout",
     "output_type": "stream",
     "text": [
      "La probabilidad de recibir 5 llamadas en un lapso de 5 minutos es:\n",
      "0.15629345185053173 \n",
      "\n",
      "La probabilidad de recibir exactamente 10 llamadas en un lapso de 15 minutos es:\n",
      "0.1048372558836594 \n",
      "\n"
     ]
    },
    {
     "data": {
      "text/plain": [
       "'d. Si en este momento no hay ninguna llamada, ¿cuál es la probabilidad de que el agente de viajes pueda tomar 3 minutos de descanso sin ser interrumpido por una llamada?'"
      ]
     },
     "execution_count": 5,
     "metadata": {},
     "output_type": "execute_result"
    }
   ],
   "source": [
    "'''4. A la oficina de reservaciones de una aerolínea regional llegan 48 llamadas por hora.'''\n",
    "#Distribución de Poisson: Se suele usar para estimar el número de veces que sucede un hecho determinado (ocurrencias) en un intervalo de tiempo o de espacio\n",
    "\n",
    "'''a. Calcule la probabilidad de recibir cinco llamadas en un lapso de 5 minutos.'''\n",
    "#Primero debemos determinar cuántas llamadas en promedio llegan en un lapso de 5 minutos. \n",
    "# Dado que llegan 48 llamadas por hora, en 5 minutos llegan: 60min---48 llamadas, 5min---?  => (5*48)/60 = 4      \n",
    "#                                                                  \n",
    "#Fórmula:   P(X = x) = (e^(-λ) * λ^x) / x!\n",
    "#   Donde:\n",
    "    # λ (lambda) es el valor esperado de llamadas, en 5 minutos, que es 4 en este caso. \n",
    "    # x probabilidad de x ocurrencias en un intervalo, numero de llamadas 5\n",
    "\n",
    "from math import e,factorial\n",
    "\n",
    "def probabilidad_poisson(lamba_np,x):\n",
    "     probabilidad = (pow(e,-lamba_np) * pow(lamba_np,x))/factorial(x)\n",
    "     return probabilidad\n",
    "\n",
    "\n",
    "#Probabilidad de recibir 5 llamadas en 5 minutos\n",
    "print('La probabilidad de recibir 5 llamadas en un lapso de 5 minutos es:') \n",
    "print(probabilidad_poisson(4,5),\"\\n\")\n",
    "\n",
    "\n",
    "'''b. Estime la probabilidad de recibir exactamente 10 llamadas en un lapso de 15 minutos.'''\n",
    "#Calcular promedio (análisis de datos pasados): 60min---48 llamadas, 15min---?  => (15*48)/60 = 12  \n",
    "\n",
    "# λ (lambda) es el valor esperado de llamadas, en 15 minutos, que es 12 en este caso. \n",
    "# x probabilidad de x ocurrencias en un intervalo, numero de llamadas 10\n",
    "\n",
    "#Probabilidad de recibir exactamente 10 llamadas en 15 minutos\n",
    "print('La probabilidad de recibir exactamente 10 llamadas en un lapso de 15 minutos es:') \n",
    "print(probabilidad_poisson(12,10),\"\\n\")\n",
    "\n",
    "\n",
    "'''c. Suponga que no hay ninguna llamada en espera. Si el agente de viajes necesitará 5 minutos para la llamada que está atendiendo, \n",
    "¿cuántas llamadas habrá en espera para cuando él termine? ¿Cuál es la probabilidad de que no haya ninguna llamada en espera?'''\n",
    "\n",
    "\n",
    "'''d. Si en este momento no hay ninguna llamada, ¿cuál es la probabilidad de que el agente de viajes pueda tomar 3 minutos de descanso sin ser interrumpido por una llamada?'''\n"
   ]
  },
  {
   "cell_type": "code",
   "execution_count": 6,
   "metadata": {},
   "outputs": [
    {
     "name": "stdout",
     "output_type": "stream",
     "text": [
      "0.5249999999999999 \n",
      "\n",
      "0.525 \n",
      "\n",
      "0.8166666666666667 \n",
      "\n",
      "0.8166666666666667 \n",
      "\n"
     ]
    }
   ],
   "source": [
    "'''5. En una encuesta realizada por Gallup Organization, se les preguntó a los interrogados, “Cuál es el deporte que prefieres ver”. Futbol y básquetbol ocuparon el primero y segundo lugar de preferencia \n",
    "(www.gallup.com, 3 de enero de 2004). Si en un grupo de 10 individuos, siete prefieren futbol y tres prefieren básquetbol. Se toma una muestra aleatoria de tres de estas personas.'''\n",
    "\n",
    "'''a. ¿Cuál es la probabilidad de que exactamente dos prefieren el futbol?'''\n",
    "\n",
    "#Una forma de resolverlo -----------------------------------------------\n",
    "from scipy.stats import hypergeom\n",
    "\n",
    "# Parámetros de la distribución hipergeométrica\n",
    "N = 10  # Tamaño de la población\n",
    "K = 7   # Número de éxitos en la población\n",
    "n = 3   # Tamaño de la muestra\n",
    "k = 2   # Número de éxitos en la muestra\n",
    "\n",
    "# Calcular la probabilidad\n",
    "probabilidad = hypergeom.pmf(k, N, K, n)\n",
    "print(probabilidad,\"\\n\")\n",
    "\n",
    "#Otra forma de resolverlo -----------------------------------------------\n",
    "from scipy import stats\n",
    "#M es N, N es n, n es k, k es x\n",
    "\n",
    "M, n, k, N = [12, 5, 1, 3]\n",
    "# hypergeom.cdf(x, M, n, N)\n",
    "hypergeo = stats.hypergeom(M,n,N)\n",
    "\n",
    "def probabilidad_hipergeometrica(N,X,n,x):\n",
    "  Xx = factorial(X)/(factorial(x)*factorial(X-x))\n",
    "  NX_nx= factorial(N-X)/(factorial(n-x)*factorial((N-X)-(n-x)))\n",
    "  Nn = factorial(N)/(factorial(n)*factorial(N-n))\n",
    "  hipergeometrica = (Xx * NX_nx)/Nn\n",
    "\n",
    "  return hipergeometrica\n",
    "\n",
    "print(probabilidad_hipergeometrica(10,7,3,2),\"\\n\")\n",
    "\n",
    "\n",
    "'''b. ¿De que la mayoría (ya sean dos o tres) prefiere el futbol?'''\n",
    "\n",
    "#Una forma de resolverlo -----------------------------------------------\n",
    "from scipy.stats import hypergeom\n",
    "\n",
    "# Parámetros de la distribución hipergeométrica\n",
    "N = 10  # Tamaño de la población\n",
    "K = 7   # Número de éxitos en la población\n",
    "n = 3   # Tamaño de la muestra\n",
    "\n",
    "# Calcular la probabilidad de mayoría prefiera fútbol\n",
    "probabilidad_2 = hypergeom.pmf(2, N, K, n)\n",
    "probabilidad_3 = hypergeom.pmf(3, N, K, n)\n",
    "probabilidad_mayoria = probabilidad_2 + probabilidad_3\n",
    "print(probabilidad_mayoria,\"\\n\")\n",
    "\n",
    "#Otra forma de resolverlo -----------------------------------------------\n",
    "prob_0 = probabilidad_hipergeometrica(10,7,3,0)\n",
    "prob_1 = probabilidad_hipergeometrica(10,7,3,1)\n",
    "print(1-prob_1-prob_0,\"\\n\")"
   ]
  }
 ],
 "metadata": {
  "kernelspec": {
   "display_name": "base",
   "language": "python",
   "name": "python3"
  },
  "language_info": {
   "codemirror_mode": {
    "name": "ipython",
    "version": 3
   },
   "file_extension": ".py",
   "mimetype": "text/x-python",
   "name": "python",
   "nbconvert_exporter": "python",
   "pygments_lexer": "ipython3",
   "version": "3.10.9"
  },
  "orig_nbformat": 4
 },
 "nbformat": 4,
 "nbformat_minor": 2
}
